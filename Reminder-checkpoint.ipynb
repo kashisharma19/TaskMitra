{
 "cells": [
  {
   "cell_type": "code",
   "execution_count": null,
   "id": "68b341ac-23e9-4067-91e6-fc0304c72ca2",
   "metadata": {},
   "outputs": [],
   "source": [
    "import pywhatkit \n",
    "import datetime\n",
    "\n",
    "def send_whatsapp_message(phone_number, message, hour, minute):\n",
    "    try:\n",
    "        now = datetime.datetime.now()\n",
    "        scheduled_time = now.replace(hour=hour, minute=minute, second=0, microsecond=0)\n",
    "        pywhatkit.sendwhatmsg(phone_number, message, scheduled_time.hour, scheduled_time.minute)\n",
    "        print(f\"WhatsApp message will be sent to {phone_number} at {scheduled_time.strftime('%H:%M')}\")\n",
    "    except Exception as e:\n",
    "        print(f\"An error occurred: {str(e)}\")\n",
    "        \n",
    "phone_number = input(\"Enter the recipient's phone number (with country code): \")\n",
    "message = \"its the time to complete and update your task\"\n",
    "hour = int(input(\"Enter the hour (0-23) at which you want to send the message: \"))\n",
    "minute = int(input(\"Enter the minute (0-59) at which you want to send the message: \"))\n",
    "\n",
    "send_whatsapp_message(phone_number, message, hour, minute)"
   ]
  },
  {
   "cell_type": "code",
   "execution_count": null,
   "id": "4b8ace3b-1d9d-49da-a521-92147b84643c",
   "metadata": {},
   "outputs": [],
   "source": []
  }
 ],
 "metadata": {
  "kernelspec": {
   "display_name": "Python 3 (ipykernel)",
   "language": "python",
   "name": "python3"
  },
  "language_info": {
   "codemirror_mode": {
    "name": "ipython",
    "version": 3
   },
   "file_extension": ".py",
   "mimetype": "text/x-python",
   "name": "python",
   "nbconvert_exporter": "python",
   "pygments_lexer": "ipython3",
   "version": "3.9.13"
  }
 },
 "nbformat": 4,
 "nbformat_minor": 5
}
